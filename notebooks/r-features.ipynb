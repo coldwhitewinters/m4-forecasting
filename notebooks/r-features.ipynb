{
 "cells": [
  {
   "cell_type": "markdown",
   "id": "94f422c4-d903-463a-a01b-30e4720d5449",
   "metadata": {},
   "source": [
    "## Setup"
   ]
  },
  {
   "cell_type": "code",
   "execution_count": 1,
   "id": "2ca8c690-1529-44c3-9666-943712a116f4",
   "metadata": {},
   "outputs": [
    {
     "name": "stderr",
     "output_type": "stream",
     "text": [
      "Unable to determine R library path: Command '('C:\\\\Users\\\\ariel\\\\anaconda3\\\\envs\\\\darts\\\\lib\\\\R\\\\bin\\\\Rscript', '-e', 'cat(Sys.getenv(\"LD_LIBRARY_PATH\"))')' returned non-zero exit status 1.\n",
      "C:\\Users\\ariel\\anaconda3\\envs\\darts\\lib\\site-packages\\rpy2\\robjects\\packages.py:367: UserWarning: The symbol 'quartz' is not in this R namespace/package.\n",
      "  \"The symbol '%s' is not in this R namespace/package.\" % name\n"
     ]
    }
   ],
   "source": [
    "%load_ext rpy2.ipython"
   ]
  },
  {
   "cell_type": "code",
   "execution_count": 2,
   "id": "8735ebb0-e012-4e6f-a24a-05bb9eeafc9a",
   "metadata": {},
   "outputs": [
    {
     "name": "stdout",
     "output_type": "stream",
     "text": [
      "NULL\n"
     ]
    }
   ],
   "source": [
    "%%R\n",
    "# install.packages(c(\"fpp3\", \"tidyverse\", \"arrow\"))"
   ]
  },
  {
   "cell_type": "code",
   "execution_count": 3,
   "id": "384088d6-c115-4c23-9fe4-fd0c51c5a7ff",
   "metadata": {},
   "outputs": [
    {
     "name": "stderr",
     "output_type": "stream",
     "text": [
      "R[write to console]: -- \u001b[1mAttaching packages\u001b[22m ------------------------------------------------------------------------------- tidyverse 1.3.1 --\n",
      "\n",
      "R[write to console]: \u001b[32mv\u001b[39m \u001b[34mggplot2\u001b[39m 3.3.5     \u001b[32mv\u001b[39m \u001b[34mpurrr  \u001b[39m 0.3.4\n",
      "\u001b[32mv\u001b[39m \u001b[34mtibble \u001b[39m 3.1.6     \u001b[32mv\u001b[39m \u001b[34mdplyr  \u001b[39m 1.0.7\n",
      "\u001b[32mv\u001b[39m \u001b[34mtidyr  \u001b[39m 1.1.4     \u001b[32mv\u001b[39m \u001b[34mstringr\u001b[39m 1.4.0\n",
      "\u001b[32mv\u001b[39m \u001b[34mreadr  \u001b[39m 2.1.1     \u001b[32mv\u001b[39m \u001b[34mforcats\u001b[39m 0.5.1\n",
      "\n",
      "R[write to console]: -- \u001b[1mConflicts\u001b[22m ---------------------------------------------------------------------------------- tidyverse_conflicts() --\n",
      "\u001b[31mx\u001b[39m \u001b[34mdplyr\u001b[39m::\u001b[32mfilter()\u001b[39m masks \u001b[34mstats\u001b[39m::filter()\n",
      "\u001b[31mx\u001b[39m \u001b[34mdplyr\u001b[39m::\u001b[32mlag()\u001b[39m    masks \u001b[34mstats\u001b[39m::lag()\n",
      "\n",
      "R[write to console]: -- \u001b[1mAttaching packages\u001b[22m ------------------------------------------------------------------------------------ fpp3 0.4.0 --\n",
      "\n",
      "R[write to console]: \u001b[32mv\u001b[39m \u001b[34mlubridate  \u001b[39m 1.8.0     \u001b[32mv\u001b[39m \u001b[34mfeasts     \u001b[39m 0.2.2\n",
      "\u001b[32mv\u001b[39m \u001b[34mtsibble    \u001b[39m 1.1.1     \u001b[32mv\u001b[39m \u001b[34mfable      \u001b[39m 0.3.1\n",
      "\u001b[32mv\u001b[39m \u001b[34mtsibbledata\u001b[39m 0.3.0     \n",
      "\n",
      "R[write to console]: -- \u001b[1mConflicts\u001b[22m ----------------------------------------------------------------------------------------- fpp3_conflicts --\n",
      "\u001b[31mx\u001b[39m \u001b[34mlubridate\u001b[39m::\u001b[32mdate()\u001b[39m    masks \u001b[34mbase\u001b[39m::date()\n",
      "\u001b[31mx\u001b[39m \u001b[34mdplyr\u001b[39m::\u001b[32mfilter()\u001b[39m      masks \u001b[34mstats\u001b[39m::filter()\n",
      "\u001b[31mx\u001b[39m \u001b[34mtsibble\u001b[39m::\u001b[32mintersect()\u001b[39m masks \u001b[34mbase\u001b[39m::intersect()\n",
      "\u001b[31mx\u001b[39m \u001b[34mtsibble\u001b[39m::\u001b[32minterval()\u001b[39m  masks \u001b[34mlubridate\u001b[39m::interval()\n",
      "\u001b[31mx\u001b[39m \u001b[34mdplyr\u001b[39m::\u001b[32mlag()\u001b[39m         masks \u001b[34mstats\u001b[39m::lag()\n",
      "\u001b[31mx\u001b[39m \u001b[34mtsibble\u001b[39m::\u001b[32msetdiff()\u001b[39m   masks \u001b[34mbase\u001b[39m::setdiff()\n",
      "\u001b[31mx\u001b[39m \u001b[34mtsibble\u001b[39m::\u001b[32munion()\u001b[39m     masks \u001b[34mbase\u001b[39m::union()\n",
      "\n",
      "R[write to console]: \n",
      "Attaching package: 'arrow'\n",
      "\n",
      "\n",
      "R[write to console]: The following object is masked from 'package:lubridate':\n",
      "\n",
      "    duration\n",
      "\n",
      "\n",
      "R[write to console]: The following object is masked from 'package:utils':\n",
      "\n",
      "    timestamp\n",
      "\n",
      "\n"
     ]
    }
   ],
   "source": [
    "%%R\n",
    "library(tidyverse)\n",
    "library(fpp3)\n",
    "library(arrow)"
   ]
  },
  {
   "cell_type": "markdown",
   "id": "630a4b89-c85e-4184-8225-d00bef954fb4",
   "metadata": {},
   "source": [
    "## Load"
   ]
  },
  {
   "cell_type": "code",
   "execution_count": 4,
   "id": "0bb25826-3182-43ae-a70a-55632541a000",
   "metadata": {},
   "outputs": [
    {
     "name": "stderr",
     "output_type": "stream",
     "text": [
      "R[write to console]: \n",
      "R[write to console]: \u001b[1mwrote\u001b[0m \u001b[32m17.05kB\u001b[0m in \u001b[36m 0s\u001b[0m, \u001b[32m?\u001b[0m\n",
      "R[write to console]: \n",
      "R[write to console]: \u001b[1mwrote\u001b[0m \u001b[32m1.80MB\u001b[0m in \u001b[36m 0s\u001b[0m, \u001b[32m9.02MB/s\u001b[0m\n",
      "R[write to console]: \n",
      "R[write to console]: \u001b[1mwrote\u001b[0m \u001b[32m2.15GB\u001b[0m in \u001b[36m 0s\u001b[0m, \u001b[32m2.15GB/s\u001b[0m\n",
      "                                                                              \n",
      "R[write to console]: \n"
     ]
    }
   ],
   "source": [
    "%%R\n",
    "daily_train <- read_parquet(\"../data/processed/daily-train-base.parquet\")\n",
    "\n",
    "daily_train <- daily_train %>% \n",
    "    select(-`__index_level_0__`) %>%\n",
    "    mutate(ds = as_date(ds)) %>%\n",
    "    as_tsibble(key=id, index=ds)\n",
    "    \n",
    "daily_train_features <- daily_train %>%\n",
    "    features(y, list(\n",
    "        feat_acf,\n",
    "        feat_pacf,\n",
    "        feat_stl, \n",
    "        feat_spectral,\n",
    "        unitroot_ndiffs,\n",
    "        unitroot_nsdiffs,\n",
    "        n_crossing_points, \n",
    "        longest_flat_spot,\n",
    "        var_tiled_mean,\n",
    "        var_tiled_var\n",
    "    ))\n",
    "           \n",
    "write_csv(daily_train_features, \"../data/processed/daily_train_r_features.csv\")"
   ]
  },
  {
   "cell_type": "code",
   "execution_count": null,
   "id": "cb568f61-6aaf-4911-9c43-206ab59b316b",
   "metadata": {},
   "outputs": [],
   "source": []
  }
 ],
 "metadata": {
  "kernelspec": {
   "display_name": "Python 3 (ipykernel)",
   "language": "python",
   "name": "python3"
  },
  "language_info": {
   "codemirror_mode": {
    "name": "ipython",
    "version": 3
   },
   "file_extension": ".py",
   "mimetype": "text/x-python",
   "name": "python",
   "nbconvert_exporter": "python",
   "pygments_lexer": "ipython3",
   "version": "3.7.12"
  }
 },
 "nbformat": 4,
 "nbformat_minor": 5
}
