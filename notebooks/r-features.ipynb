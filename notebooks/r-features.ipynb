{
 "cells": [
  {
   "cell_type": "markdown",
   "id": "94f422c4-d903-463a-a01b-30e4720d5449",
   "metadata": {},
   "source": [
    "## Setup"
   ]
  },
  {
   "cell_type": "code",
   "execution_count": null,
   "id": "2ca8c690-1529-44c3-9666-943712a116f4",
   "metadata": {},
   "outputs": [],
   "source": [
    "%load_ext rpy2.ipython"
   ]
  },
  {
   "cell_type": "code",
   "execution_count": null,
   "id": "8735ebb0-e012-4e6f-a24a-05bb9eeafc9a",
   "metadata": {},
   "outputs": [],
   "source": [
    "%%R\n",
    "# install.packages(c(\"fpp3\", \"tidyverse\", \"arrow\"))"
   ]
  },
  {
   "cell_type": "code",
   "execution_count": null,
   "id": "384088d6-c115-4c23-9fe4-fd0c51c5a7ff",
   "metadata": {},
   "outputs": [],
   "source": [
    "%%R\n",
    "library(tidyverse)\n",
    "library(fpp3)"
   ]
  },
  {
   "cell_type": "markdown",
   "id": "630a4b89-c85e-4184-8225-d00bef954fb4",
   "metadata": {},
   "source": [
    "## Load"
   ]
  },
  {
   "cell_type": "code",
   "execution_count": null,
   "id": "89a43ae6-4054-4a58-98a5-261f28823043",
   "metadata": {},
   "outputs": [],
   "source": [
    "%%R\n",
    "daily_train <- read_csv(\"./data/processed/daily-train-base.csv\")\n",
    "\n",
    "daily_train <- daily_train %>% \n",
    "  mutate(ds = as_date(ds)) %>%\n",
    "  as_tsibble(key=id, index=ds)"
   ]
  },
  {
   "cell_type": "markdown",
   "id": "558219ac-c85f-4f3f-ba63-0cfbd21ca98c",
   "metadata": {},
   "source": [
    "## Features"
   ]
  },
  {
   "cell_type": "code",
   "execution_count": null,
   "id": "e33924b9-f5cb-49c1-8fbb-82887d8cd2fb",
   "metadata": {},
   "outputs": [],
   "source": [
    "daily_train_features <- daily_train %>% \n",
    "  features(y, list(\n",
    "    feat_acf,\n",
    "    feat_pacf,\n",
    "    unitroot_ndiffs,\n",
    "    unitroot_nsdiffs,\n",
    "    var_tiled_mean,\n",
    "    var_tiled_var,\n",
    "    shift_level_max,\n",
    "    feat_stl,\n",
    "    feat_spectral,\n",
    "    n_crossing_points,\n",
    "    longest_flat_spot,\n",
    "    coef_hurst,\n",
    "    guerrero\n",
    "  ))\n",
    "\n",
    "write_csv(daily_train_features, \"./data/processed/daily-train-features-r.csv\")"
   ]
  },
  {
   "cell_type": "code",
   "execution_count": null,
   "id": "cb568f61-6aaf-4911-9c43-206ab59b316b",
   "metadata": {},
   "outputs": [],
   "source": []
  }
 ],
 "metadata": {
  "kernelspec": {
   "display_name": "Python 3 (ipykernel)",
   "language": "python",
   "name": "python3"
  },
  "language_info": {
   "codemirror_mode": {
    "name": "ipython",
    "version": 3
   },
   "file_extension": ".py",
   "mimetype": "text/x-python",
   "name": "python",
   "nbconvert_exporter": "python",
   "pygments_lexer": "ipython3",
   "version": "3.8.13"
  }
 },
 "nbformat": 4,
 "nbformat_minor": 5
}
