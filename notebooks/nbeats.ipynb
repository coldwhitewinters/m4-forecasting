{
 "cells": [
  {
   "cell_type": "code",
   "execution_count": 14,
   "id": "8f006a91-b810-4b8d-b5d8-39cc4be1cbb4",
   "metadata": {},
   "outputs": [],
   "source": [
    "import numpy as np\n",
    "import pandas as pd\n",
    "import matplotlib.pyplot as plt\n",
    "import seaborn as sns\n",
    "import plotly.express as px\n",
    "import ipywidgets as widgets\n",
    "from ipywidgets import interact, fixed\n",
    "\n",
    "from darts import TimeSeries\n",
    "from darts.models import NBEATSModel\n",
    "\n",
    "plt.rcParams[\"figure.figsize\"] = (14, 4)\n",
    "pd.options.display.max_columns = 500"
   ]
  },
  {
   "cell_type": "code",
   "execution_count": 4,
   "id": "54c10116-512a-4d20-947f-1fe8ab33dc89",
   "metadata": {},
   "outputs": [
    {
     "data": {
      "text/html": [
       "<div>\n",
       "<style scoped>\n",
       "    .dataframe tbody tr th:only-of-type {\n",
       "        vertical-align: middle;\n",
       "    }\n",
       "\n",
       "    .dataframe tbody tr th {\n",
       "        vertical-align: top;\n",
       "    }\n",
       "\n",
       "    .dataframe thead th {\n",
       "        text-align: right;\n",
       "    }\n",
       "</style>\n",
       "<table border=\"1\" class=\"dataframe\">\n",
       "  <thead>\n",
       "    <tr style=\"text-align: right;\">\n",
       "      <th></th>\n",
       "      <th>id</th>\n",
       "      <th>ds</th>\n",
       "      <th>t</th>\n",
       "      <th>y</th>\n",
       "      <th>category</th>\n",
       "    </tr>\n",
       "  </thead>\n",
       "  <tbody>\n",
       "    <tr>\n",
       "      <th>0</th>\n",
       "      <td>1</td>\n",
       "      <td>1994-03-01 12:00:00</td>\n",
       "      <td>1</td>\n",
       "      <td>1017.1</td>\n",
       "      <td>Macro</td>\n",
       "    </tr>\n",
       "    <tr>\n",
       "      <th>1</th>\n",
       "      <td>1</td>\n",
       "      <td>1994-03-02 12:00:00</td>\n",
       "      <td>2</td>\n",
       "      <td>1019.3</td>\n",
       "      <td>Macro</td>\n",
       "    </tr>\n",
       "    <tr>\n",
       "      <th>2</th>\n",
       "      <td>1</td>\n",
       "      <td>1994-03-03 12:00:00</td>\n",
       "      <td>3</td>\n",
       "      <td>1017.0</td>\n",
       "      <td>Macro</td>\n",
       "    </tr>\n",
       "    <tr>\n",
       "      <th>3</th>\n",
       "      <td>1</td>\n",
       "      <td>1994-03-04 12:00:00</td>\n",
       "      <td>4</td>\n",
       "      <td>1019.2</td>\n",
       "      <td>Macro</td>\n",
       "    </tr>\n",
       "    <tr>\n",
       "      <th>4</th>\n",
       "      <td>1</td>\n",
       "      <td>1994-03-05 12:00:00</td>\n",
       "      <td>5</td>\n",
       "      <td>1018.7</td>\n",
       "      <td>Macro</td>\n",
       "    </tr>\n",
       "    <tr>\n",
       "      <th>...</th>\n",
       "      <td>...</td>\n",
       "      <td>...</td>\n",
       "      <td>...</td>\n",
       "      <td>...</td>\n",
       "      <td>...</td>\n",
       "    </tr>\n",
       "    <tr>\n",
       "      <th>9964653</th>\n",
       "      <td>4227</td>\n",
       "      <td>2012-04-22 12:00:00</td>\n",
       "      <td>4436</td>\n",
       "      <td>15111.5</td>\n",
       "      <td>Other</td>\n",
       "    </tr>\n",
       "    <tr>\n",
       "      <th>9964654</th>\n",
       "      <td>4227</td>\n",
       "      <td>2012-04-23 12:00:00</td>\n",
       "      <td>4437</td>\n",
       "      <td>15154.0</td>\n",
       "      <td>Other</td>\n",
       "    </tr>\n",
       "    <tr>\n",
       "      <th>9964655</th>\n",
       "      <td>4227</td>\n",
       "      <td>2012-04-24 12:00:00</td>\n",
       "      <td>4438</td>\n",
       "      <td>15208.6</td>\n",
       "      <td>Other</td>\n",
       "    </tr>\n",
       "    <tr>\n",
       "      <th>9964656</th>\n",
       "      <td>4227</td>\n",
       "      <td>2012-04-25 12:00:00</td>\n",
       "      <td>4439</td>\n",
       "      <td>15108.0</td>\n",
       "      <td>Other</td>\n",
       "    </tr>\n",
       "    <tr>\n",
       "      <th>9964657</th>\n",
       "      <td>4227</td>\n",
       "      <td>2012-04-26 12:00:00</td>\n",
       "      <td>4440</td>\n",
       "      <td>15169.9</td>\n",
       "      <td>Other</td>\n",
       "    </tr>\n",
       "  </tbody>\n",
       "</table>\n",
       "<p>9964658 rows × 5 columns</p>\n",
       "</div>"
      ],
      "text/plain": [
       "           id                  ds     t        y category\n",
       "0           1 1994-03-01 12:00:00     1   1017.1    Macro\n",
       "1           1 1994-03-02 12:00:00     2   1019.3    Macro\n",
       "2           1 1994-03-03 12:00:00     3   1017.0    Macro\n",
       "3           1 1994-03-04 12:00:00     4   1019.2    Macro\n",
       "4           1 1994-03-05 12:00:00     5   1018.7    Macro\n",
       "...       ...                 ...   ...      ...      ...\n",
       "9964653  4227 2012-04-22 12:00:00  4436  15111.5    Other\n",
       "9964654  4227 2012-04-23 12:00:00  4437  15154.0    Other\n",
       "9964655  4227 2012-04-24 12:00:00  4438  15208.6    Other\n",
       "9964656  4227 2012-04-25 12:00:00  4439  15108.0    Other\n",
       "9964657  4227 2012-04-26 12:00:00  4440  15169.9    Other\n",
       "\n",
       "[9964658 rows x 5 columns]"
      ]
     },
     "execution_count": 4,
     "metadata": {},
     "output_type": "execute_result"
    }
   ],
   "source": [
    "daily_train = pd.read_csv(\"../data/processed/daily-train-base.csv\", parse_dates=[\"ds\"])\n",
    "daily_train"
   ]
  },
  {
   "cell_type": "code",
   "execution_count": 11,
   "id": "ee6c5c05-9287-47f2-bde0-9e80efbcd909",
   "metadata": {},
   "outputs": [],
   "source": [
    "tss = []\n",
    "for key in daily_train.id.unique():\n",
    "    ts = TimeSeries.from_dataframe(\n",
    "        daily_train.loc[daily_train.id == key, [\"ds\", \"y\"]],\n",
    "        time_col=\"ds\",\n",
    "        value_cols=\"y\",\n",
    "    )\n",
    "    tss.append(ts)"
   ]
  },
  {
   "cell_type": "code",
   "execution_count": 25,
   "id": "5c3494f7-1b62-4944-a228-204dfba4ec58",
   "metadata": {},
   "outputs": [],
   "source": [
    "model_nbeats = NBEATSModel(\n",
    "    input_chunk_length=28, \n",
    "    output_chunk_length=14, \n",
    "    generic_architecture=False, \n",
    "    num_stacks=30, \n",
    "    num_blocks=1, \n",
    "    num_layers=4, \n",
    "    layer_widths=256, \n",
    "    expansion_coefficient_dim=5, \n",
    "    trend_polynomial_degree=2, \n",
    ")"
   ]
  },
  {
   "cell_type": "code",
   "execution_count": 26,
   "id": "46840780-bf34-4d21-a3fe-d787b45d0369",
   "metadata": {},
   "outputs": [
    {
     "name": "stderr",
     "output_type": "stream",
     "text": [
      "[2022-06-23 19:56:58,704] INFO | darts.models.forecasting.torch_forecasting_model | Train dataset contains 41754306 samples.\n",
      "[2022-06-23 19:56:58,704] INFO | darts.models.forecasting.torch_forecasting_model | Train dataset contains 41754306 samples.\n",
      "2022-06-23 19:56:58 darts.models.forecasting.torch_forecasting_model INFO: Train dataset contains 41754306 samples.\n",
      "[2022-06-23 19:56:58,715] INFO | darts.models.forecasting.torch_forecasting_model | Time series values are 64-bits; casting model to float64.\n",
      "[2022-06-23 19:56:58,715] INFO | darts.models.forecasting.torch_forecasting_model | Time series values are 64-bits; casting model to float64.\n",
      "2022-06-23 19:56:58 darts.models.forecasting.torch_forecasting_model INFO: Time series values are 64-bits; casting model to float64.\n",
      "2022-06-23 19:56:58 pytorch_lightning.utilities.distributed INFO: GPU available: False, used: False\n",
      "2022-06-23 19:56:58 pytorch_lightning.utilities.distributed INFO: TPU available: False, using: 0 TPU cores\n",
      "2022-06-23 19:56:58 pytorch_lightning.utilities.distributed INFO: IPU available: False, using: 0 IPUs\n",
      "2022-06-23 19:56:58 pytorch_lightning.callbacks.model_summary INFO: \n",
      "  | Name      | Type       | Params\n",
      "-----------------------------------------\n",
      "0 | criterion | MSELoss    | 0     \n",
      "1 | stacks    | ModuleList | 422 K \n",
      "-----------------------------------------\n",
      "414 K     Trainable params\n",
      "8.0 K     Non-trainable params\n",
      "422 K     Total params\n",
      "3.380     Total estimated model params size (MB)\n"
     ]
    },
    {
     "data": {
      "application/vnd.jupyter.widget-view+json": {
       "model_id": "c4605687411a4643b39fc19c1956b2e0",
       "version_major": 2,
       "version_minor": 0
      },
      "text/plain": [
       "Training: 0it [00:00, ?it/s]"
      ]
     },
     "metadata": {},
     "output_type": "display_data"
    },
    {
     "name": "stderr",
     "output_type": "stream",
     "text": [
      "C:\\Users\\ariel\\anaconda3\\envs\\m4-forecasting\\lib\\site-packages\\pytorch_lightning\\trainer\\trainer.py:688: UserWarning: Detected KeyboardInterrupt, attempting graceful shutdown...\n",
      "  rank_zero_warn(\"Detected KeyboardInterrupt, attempting graceful shutdown...\")\n"
     ]
    },
    {
     "data": {
      "text/plain": [
       "<darts.models.forecasting.nbeats.NBEATSModel at 0x1ee08fe31f0>"
      ]
     },
     "execution_count": 26,
     "metadata": {},
     "output_type": "execute_result"
    }
   ],
   "source": [
    "model_nbeats.fit(tss)"
   ]
  },
  {
   "cell_type": "code",
   "execution_count": null,
   "id": "0acd89c5-f688-4273-88dd-99bf6801a3e4",
   "metadata": {},
   "outputs": [],
   "source": [
    "model_nbeats.save_model(\"../data/models/model_nbeats.pth.tar\")"
   ]
  }
 ],
 "metadata": {
  "kernelspec": {
   "display_name": "Python 3 (ipykernel)",
   "language": "python",
   "name": "python3"
  },
  "language_info": {
   "codemirror_mode": {
    "name": "ipython",
    "version": 3
   },
   "file_extension": ".py",
   "mimetype": "text/x-python",
   "name": "python",
   "nbconvert_exporter": "python",
   "pygments_lexer": "ipython3",
   "version": "3.8.13"
  }
 },
 "nbformat": 4,
 "nbformat_minor": 5
}
