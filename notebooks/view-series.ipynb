{
 "cells": [
  {
   "cell_type": "markdown",
   "id": "bcb87bfc-eaa3-457b-a68a-74b821a09ec1",
   "metadata": {},
   "source": [
    "## Setup"
   ]
  },
  {
   "cell_type": "code",
   "execution_count": 2,
   "id": "36fe6d55-8789-46e7-9c30-05b16b681d88",
   "metadata": {},
   "outputs": [],
   "source": [
    "import numpy as np\n",
    "import pandas as pd\n",
    "import matplotlib.pyplot as plt\n",
    "import plotly.express as px\n",
    "import ipywidgets as widgets\n",
    "from ipywidgets import interact, fixed\n",
    "\n",
    "plt.rcParams[\"figure.figsize\"] = (14, 4)\n",
    "pd.options.display.max_columns = 500"
   ]
  },
  {
   "cell_type": "markdown",
   "id": "755a8a14-923c-48c8-ba81-7e19e8b34606",
   "metadata": {},
   "source": [
    "## Load"
   ]
  },
  {
   "cell_type": "code",
   "execution_count": 6,
   "id": "7e648268-bf5d-4dc7-8ecd-2e45c42fde81",
   "metadata": {},
   "outputs": [
    {
     "data": {
      "text/html": [
       "<div>\n",
       "<style scoped>\n",
       "    .dataframe tbody tr th:only-of-type {\n",
       "        vertical-align: middle;\n",
       "    }\n",
       "\n",
       "    .dataframe tbody tr th {\n",
       "        vertical-align: top;\n",
       "    }\n",
       "\n",
       "    .dataframe thead th {\n",
       "        text-align: right;\n",
       "    }\n",
       "</style>\n",
       "<table border=\"1\" class=\"dataframe\">\n",
       "  <thead>\n",
       "    <tr style=\"text-align: right;\">\n",
       "      <th></th>\n",
       "      <th>id</th>\n",
       "      <th>ds</th>\n",
       "      <th>t</th>\n",
       "      <th>y</th>\n",
       "      <th>category</th>\n",
       "    </tr>\n",
       "  </thead>\n",
       "  <tbody>\n",
       "    <tr>\n",
       "      <th>0</th>\n",
       "      <td>1</td>\n",
       "      <td>1994-03-01 12:00:00</td>\n",
       "      <td>1</td>\n",
       "      <td>1017.1</td>\n",
       "      <td>Macro</td>\n",
       "    </tr>\n",
       "    <tr>\n",
       "      <th>1</th>\n",
       "      <td>1</td>\n",
       "      <td>1994-03-02 12:00:00</td>\n",
       "      <td>2</td>\n",
       "      <td>1019.3</td>\n",
       "      <td>Macro</td>\n",
       "    </tr>\n",
       "    <tr>\n",
       "      <th>2</th>\n",
       "      <td>1</td>\n",
       "      <td>1994-03-03 12:00:00</td>\n",
       "      <td>3</td>\n",
       "      <td>1017.0</td>\n",
       "      <td>Macro</td>\n",
       "    </tr>\n",
       "    <tr>\n",
       "      <th>3</th>\n",
       "      <td>1</td>\n",
       "      <td>1994-03-04 12:00:00</td>\n",
       "      <td>4</td>\n",
       "      <td>1019.2</td>\n",
       "      <td>Macro</td>\n",
       "    </tr>\n",
       "    <tr>\n",
       "      <th>4</th>\n",
       "      <td>1</td>\n",
       "      <td>1994-03-05 12:00:00</td>\n",
       "      <td>5</td>\n",
       "      <td>1018.7</td>\n",
       "      <td>Macro</td>\n",
       "    </tr>\n",
       "    <tr>\n",
       "      <th>...</th>\n",
       "      <td>...</td>\n",
       "      <td>...</td>\n",
       "      <td>...</td>\n",
       "      <td>...</td>\n",
       "      <td>...</td>\n",
       "    </tr>\n",
       "    <tr>\n",
       "      <th>9964653</th>\n",
       "      <td>4227</td>\n",
       "      <td>2012-04-22 12:00:00</td>\n",
       "      <td>4436</td>\n",
       "      <td>15111.5</td>\n",
       "      <td>Other</td>\n",
       "    </tr>\n",
       "    <tr>\n",
       "      <th>9964654</th>\n",
       "      <td>4227</td>\n",
       "      <td>2012-04-23 12:00:00</td>\n",
       "      <td>4437</td>\n",
       "      <td>15154.0</td>\n",
       "      <td>Other</td>\n",
       "    </tr>\n",
       "    <tr>\n",
       "      <th>9964655</th>\n",
       "      <td>4227</td>\n",
       "      <td>2012-04-24 12:00:00</td>\n",
       "      <td>4438</td>\n",
       "      <td>15208.6</td>\n",
       "      <td>Other</td>\n",
       "    </tr>\n",
       "    <tr>\n",
       "      <th>9964656</th>\n",
       "      <td>4227</td>\n",
       "      <td>2012-04-25 12:00:00</td>\n",
       "      <td>4439</td>\n",
       "      <td>15108.0</td>\n",
       "      <td>Other</td>\n",
       "    </tr>\n",
       "    <tr>\n",
       "      <th>9964657</th>\n",
       "      <td>4227</td>\n",
       "      <td>2012-04-26 12:00:00</td>\n",
       "      <td>4440</td>\n",
       "      <td>15169.9</td>\n",
       "      <td>Other</td>\n",
       "    </tr>\n",
       "  </tbody>\n",
       "</table>\n",
       "<p>9964658 rows × 5 columns</p>\n",
       "</div>"
      ],
      "text/plain": [
       "           id                  ds     t        y category\n",
       "0           1 1994-03-01 12:00:00     1   1017.1    Macro\n",
       "1           1 1994-03-02 12:00:00     2   1019.3    Macro\n",
       "2           1 1994-03-03 12:00:00     3   1017.0    Macro\n",
       "3           1 1994-03-04 12:00:00     4   1019.2    Macro\n",
       "4           1 1994-03-05 12:00:00     5   1018.7    Macro\n",
       "...       ...                 ...   ...      ...      ...\n",
       "9964653  4227 2012-04-22 12:00:00  4436  15111.5    Other\n",
       "9964654  4227 2012-04-23 12:00:00  4437  15154.0    Other\n",
       "9964655  4227 2012-04-24 12:00:00  4438  15208.6    Other\n",
       "9964656  4227 2012-04-25 12:00:00  4439  15108.0    Other\n",
       "9964657  4227 2012-04-26 12:00:00  4440  15169.9    Other\n",
       "\n",
       "[9964658 rows x 5 columns]"
      ]
     },
     "execution_count": 6,
     "metadata": {},
     "output_type": "execute_result"
    }
   ],
   "source": [
    "daily_train = pd.read_csv(\"../data/processed/daily-train-base.csv\", parse_dates=[\"ds\"])\n",
    "daily_train"
   ]
  },
  {
   "cell_type": "code",
   "execution_count": 7,
   "id": "cc780612-b159-4348-9006-853dd4db0c2b",
   "metadata": {},
   "outputs": [
    {
     "data": {
      "application/vnd.jupyter.widget-view+json": {
       "model_id": "8a95ed7425ae442c8072cc5a721e9893",
       "version_major": 2,
       "version_minor": 0
      },
      "text/plain": [
       "interactive(children=(Dropdown(description='key', options=(1, 2, 3, 4, 5, 6, 7, 8, 9, 10, 11, 12, 13, 14, 15, …"
      ]
     },
     "metadata": {},
     "output_type": "display_data"
    }
   ],
   "source": [
    "@interact(df=fixed(daily_train), key=widgets.Dropdown(options=list(daily_train.id.unique())))\n",
    "def plot_ts(df, key):\n",
    "    fig = px.line(df.loc[df.id == key, [\"ds\", \"y\"]].set_index(\"ds\"))\n",
    "    return fig"
   ]
  },
  {
   "cell_type": "code",
   "execution_count": 14,
   "id": "c27f4d57-443f-4fef-9411-89b6f794b6bd",
   "metadata": {},
   "outputs": [
    {
     "data": {
      "application/vnd.jupyter.widget-view+json": {
       "model_id": "829180323b4441bb9abbfe3db57df337",
       "version_major": 2,
       "version_minor": 0
      },
      "text/plain": [
       "interactive(children=(Dropdown(description='key', options=(1, 2, 3, 4, 5, 6, 7, 8, 9, 10, 11, 12, 13, 14, 15, …"
      ]
     },
     "metadata": {},
     "output_type": "display_data"
    },
    {
     "data": {
      "text/plain": [
       "<function __main__.plot_ts(df, key)>"
      ]
     },
     "execution_count": 14,
     "metadata": {},
     "output_type": "execute_result"
    }
   ],
   "source": [
    "ys = daily_train[daily_train.category == \"Macro\"].copy()\n",
    "ys_id = list(ys.id.unique())\n",
    "interact(plot_ts, df=fixed(ys), key=widgets.Dropdown(options=ys_id))"
   ]
  },
  {
   "cell_type": "code",
   "execution_count": 13,
   "id": "1c85c70b-701c-42fb-9723-b69b70c22d1d",
   "metadata": {},
   "outputs": [
    {
     "data": {
      "application/vnd.jupyter.widget-view+json": {
       "model_id": "e00aac816da2417cad6b90dae0632d35",
       "version_major": 2,
       "version_minor": 0
      },
      "text/plain": [
       "interactive(children=(Dropdown(description='key', options=(128, 129, 130, 131, 132, 133, 134, 135, 136, 137, 1…"
      ]
     },
     "metadata": {},
     "output_type": "display_data"
    },
    {
     "data": {
      "text/plain": [
       "<function __main__.plot_ts(df, key)>"
      ]
     },
     "execution_count": 13,
     "metadata": {},
     "output_type": "execute_result"
    }
   ],
   "source": [
    "ys = daily_train[daily_train.category == \"Micro\"].copy()\n",
    "ys_id = list(ys.id.unique())\n",
    "interact(plot_ts, df=fixed(ys), key=widgets.Dropdown(options=ys_id))"
   ]
  },
  {
   "cell_type": "code",
   "execution_count": 15,
   "id": "03722736-efc6-48e4-ae13-bb53bf214b8b",
   "metadata": {},
   "outputs": [
    {
     "data": {
      "application/vnd.jupyter.widget-view+json": {
       "model_id": "689b495c25ec440ab172247522b62c3c",
       "version_major": 2,
       "version_minor": 0
      },
      "text/plain": [
       "interactive(children=(Dropdown(description='key', options=(1604, 1605, 1606, 1607, 1608, 1609, 1610, 1611, 161…"
      ]
     },
     "metadata": {},
     "output_type": "display_data"
    },
    {
     "data": {
      "text/plain": [
       "<function __main__.plot_ts(df, key)>"
      ]
     },
     "execution_count": 15,
     "metadata": {},
     "output_type": "execute_result"
    }
   ],
   "source": [
    "ys = daily_train[daily_train.category == \"Demographic\"].copy()\n",
    "ys_id = list(ys.id.unique())\n",
    "interact(plot_ts, df=fixed(ys), key=widgets.Dropdown(options=ys_id))"
   ]
  },
  {
   "cell_type": "code",
   "execution_count": 16,
   "id": "9decf8f3-b8e8-49b4-8f55-9747bb89e96b",
   "metadata": {},
   "outputs": [
    {
     "data": {
      "application/vnd.jupyter.widget-view+json": {
       "model_id": "3d8f9582e8eb4d589c97dc55c587b2d9",
       "version_major": 2,
       "version_minor": 0
      },
      "text/plain": [
       "interactive(children=(Dropdown(description='key', options=(1614, 1615, 1616, 1617, 1618, 1619, 1620, 1621, 162…"
      ]
     },
     "metadata": {},
     "output_type": "display_data"
    },
    {
     "data": {
      "text/plain": [
       "<function __main__.plot_ts(df, key)>"
      ]
     },
     "execution_count": 16,
     "metadata": {},
     "output_type": "execute_result"
    }
   ],
   "source": [
    "ys = daily_train[daily_train.category == \"Industry\"].copy()\n",
    "ys_id = list(ys.id.unique())\n",
    "interact(plot_ts, df=fixed(ys), key=widgets.Dropdown(options=ys_id))"
   ]
  },
  {
   "cell_type": "code",
   "execution_count": 17,
   "id": "9df58348-42e6-47ea-b90b-5a286a3eb958",
   "metadata": {},
   "outputs": [
    {
     "data": {
      "application/vnd.jupyter.widget-view+json": {
       "model_id": "f38f391669a14cc195c6bdcc78147c46",
       "version_major": 2,
       "version_minor": 0
      },
      "text/plain": [
       "interactive(children=(Dropdown(description='key', options=(2036, 2037, 2038, 2039, 2040, 2041, 2042, 2043, 204…"
      ]
     },
     "metadata": {},
     "output_type": "display_data"
    },
    {
     "data": {
      "text/plain": [
       "<function __main__.plot_ts(df, key)>"
      ]
     },
     "execution_count": 17,
     "metadata": {},
     "output_type": "execute_result"
    }
   ],
   "source": [
    "ys = daily_train[daily_train.category == \"Finance\"].copy()\n",
    "ys_id = list(ys.id.unique())\n",
    "interact(plot_ts, df=fixed(ys), key=widgets.Dropdown(options=ys_id))"
   ]
  },
  {
   "cell_type": "code",
   "execution_count": 18,
   "id": "46eadf7e-ecab-4a91-9e3f-30a1b3497050",
   "metadata": {},
   "outputs": [
    {
     "data": {
      "application/vnd.jupyter.widget-view+json": {
       "model_id": "3cedd4daef6a4f87a400228099554cd7",
       "version_major": 2,
       "version_minor": 0
      },
      "text/plain": [
       "interactive(children=(Dropdown(description='key', options=(3595, 3596, 3597, 3598, 3599, 3600, 3601, 3602, 360…"
      ]
     },
     "metadata": {},
     "output_type": "display_data"
    },
    {
     "data": {
      "text/plain": [
       "<function __main__.plot_ts(df, key)>"
      ]
     },
     "execution_count": 18,
     "metadata": {},
     "output_type": "execute_result"
    }
   ],
   "source": [
    "ys = daily_train[daily_train.category == \"Other\"].copy()\n",
    "ys_id = list(ys.id.unique())\n",
    "interact(plot_ts, df=fixed(ys), key=widgets.Dropdown(options=ys_id))"
   ]
  },
  {
   "cell_type": "code",
   "execution_count": null,
   "id": "084f9055-77c6-4a8d-af21-dbfe4a2e9c1a",
   "metadata": {},
   "outputs": [],
   "source": []
  }
 ],
 "metadata": {
  "kernelspec": {
   "display_name": "Python 3 (ipykernel)",
   "language": "python",
   "name": "python3"
  },
  "language_info": {
   "codemirror_mode": {
    "name": "ipython",
    "version": 3
   },
   "file_extension": ".py",
   "mimetype": "text/x-python",
   "name": "python",
   "nbconvert_exporter": "python",
   "pygments_lexer": "ipython3",
   "version": "3.8.13"
  }
 },
 "nbformat": 4,
 "nbformat_minor": 5
}
