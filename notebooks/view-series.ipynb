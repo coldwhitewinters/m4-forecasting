{
 "cells": [
  {
   "cell_type": "markdown",
   "id": "bcb87bfc-eaa3-457b-a68a-74b821a09ec1",
   "metadata": {},
   "source": [
    "## Setup"
   ]
  },
  {
   "cell_type": "code",
   "execution_count": 2,
   "id": "e5040cf8",
   "metadata": {},
   "outputs": [],
   "source": [
    "import sys\n",
    "sys.path.append(\"..\")"
   ]
  },
  {
   "cell_type": "code",
   "execution_count": 3,
   "id": "36fe6d55-8789-46e7-9c30-05b16b681d88",
   "metadata": {},
   "outputs": [],
   "source": [
    "import numpy as np\n",
    "import pandas as pd\n",
    "import matplotlib.pyplot as plt\n",
    "import plotly.express as px\n",
    "import ipywidgets as widgets\n",
    "from ipywidgets import interact, fixed\n",
    "\n",
    "from m4.config import paths, datasets, settings\n",
    "\n",
    "plt.rcParams[\"figure.figsize\"] = (14, 4)\n",
    "pd.options.display.max_columns = 500"
   ]
  },
  {
   "cell_type": "markdown",
   "id": "755a8a14-923c-48c8-ba81-7e19e8b34606",
   "metadata": {},
   "source": [
    "## Load"
   ]
  },
  {
   "cell_type": "code",
   "execution_count": 7,
   "id": "1a379950",
   "metadata": {},
   "outputs": [],
   "source": [
    "datasets = {\n",
    "    \"hourly-train\": pd.read_csv(paths[\"data_dir_base\"] / \"hourly-train.csv\", parse_dates=[\"date\"]),\n",
    "    \"daily-train\": pd.read_csv(paths[\"data_dir_base\"] / \"daily-train.csv\", parse_dates=[\"date\"]),\n",
    "    \"weekly-train\": pd.read_csv(paths[\"data_dir_base\"] / \"weekly-train.csv\", parse_dates=[\"date\"]),\n",
    "    \"monthly-train\": pd.read_csv(paths[\"data_dir_base\"] / \"monthly-train.csv\", parse_dates=[\"date\"]),\n",
    "    \"quarterly-train\": pd.read_csv(paths[\"data_dir_base\"] / \"quarterly-train.csv\", parse_dates=[\"date\"]),\n",
    "    \"yearly-train\": pd.read_csv(paths[\"data_dir_base\"] / \"yearly-train.csv\", parse_dates=[\"date\"]),\n",
    "}"
   ]
  },
  {
   "cell_type": "code",
   "execution_count": 21,
   "id": "b32ab46b",
   "metadata": {},
   "outputs": [
    {
     "data": {
      "application/vnd.jupyter.widget-view+json": {
       "model_id": "3a4cf4273fb84d788fe2128f06324279",
       "version_major": 2,
       "version_minor": 0
      },
      "text/plain": [
       "interactive(children=(Dropdown(description='key', options=('M1', 'M10', 'M100', 'M1000', 'M10000', 'M10001', '…"
      ]
     },
     "metadata": {},
     "output_type": "display_data"
    }
   ],
   "source": [
    "group = \"monthly-train\"\n",
    "\n",
    "@interact(\n",
    "    df=fixed(datasets[group]),\n",
    "    key=widgets.Dropdown(options=list(datasets[group].name.unique()))\n",
    ")\n",
    "def plot_ts(df, key):\n",
    "    df.loc[df.name == key, [\"date\", \"y\"]].set_index(\"date\").plot()\n",
    "    #fig = px.line(df.loc[df.name == key, [\"date\", \"y\"]].set_index(\"date\"))\n",
    "    #return fig"
   ]
  },
  {
   "cell_type": "code",
   "execution_count": null,
   "id": "084f9055-77c6-4a8d-af21-dbfe4a2e9c1a",
   "metadata": {},
   "outputs": [],
   "source": []
  }
 ],
 "metadata": {
  "kernelspec": {
   "display_name": "Python 3.8.13 ('m4-forecasting')",
   "language": "python",
   "name": "python3"
  },
  "language_info": {
   "codemirror_mode": {
    "name": "ipython",
    "version": 3
   },
   "file_extension": ".py",
   "mimetype": "text/x-python",
   "name": "python",
   "nbconvert_exporter": "python",
   "pygments_lexer": "ipython3",
   "version": "3.8.13"
  },
  "vscode": {
   "interpreter": {
    "hash": "1cde21b75efc1b5dc74ce50849c078225ac907c838c56335660bab9e55eba2b7"
   }
  }
 },
 "nbformat": 4,
 "nbformat_minor": 5
}
