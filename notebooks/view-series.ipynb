{
 "cells": [
  {
   "cell_type": "markdown",
   "id": "bcb87bfc-eaa3-457b-a68a-74b821a09ec1",
   "metadata": {},
   "source": [
    "## Setup"
   ]
  },
  {
   "cell_type": "code",
   "execution_count": 1,
   "id": "36fe6d55-8789-46e7-9c30-05b16b681d88",
   "metadata": {},
   "outputs": [],
   "source": [
    "import numpy as np\n",
    "import pandas as pd\n",
    "import matplotlib.pyplot as plt\n",
    "import seaborn as sns\n",
    "import plotly.express as px\n",
    "import ipywidgets as widgets\n",
    "from ipywidgets import interact, fixed\n",
    "\n",
    "plt.rcParams[\"figure.figsize\"] = (14, 4)\n",
    "pd.options.display.max_columns = 500"
   ]
  },
  {
   "cell_type": "markdown",
   "id": "755a8a14-923c-48c8-ba81-7e19e8b34606",
   "metadata": {},
   "source": [
    "## Load"
   ]
  },
  {
   "cell_type": "code",
   "execution_count": 2,
   "id": "7e648268-bf5d-4dc7-8ecd-2e45c42fde81",
   "metadata": {},
   "outputs": [
    {
     "data": {
      "text/html": [
       "<div>\n",
       "<style scoped>\n",
       "    .dataframe tbody tr th:only-of-type {\n",
       "        vertical-align: middle;\n",
       "    }\n",
       "\n",
       "    .dataframe tbody tr th {\n",
       "        vertical-align: top;\n",
       "    }\n",
       "\n",
       "    .dataframe thead th {\n",
       "        text-align: right;\n",
       "    }\n",
       "</style>\n",
       "<table border=\"1\" class=\"dataframe\">\n",
       "  <thead>\n",
       "    <tr style=\"text-align: right;\">\n",
       "      <th></th>\n",
       "      <th>id</th>\n",
       "      <th>ds</th>\n",
       "      <th>t</th>\n",
       "      <th>y</th>\n",
       "      <th>category</th>\n",
       "    </tr>\n",
       "  </thead>\n",
       "  <tbody>\n",
       "    <tr>\n",
       "      <th>0</th>\n",
       "      <td>1</td>\n",
       "      <td>1994-03-01 12:00:00</td>\n",
       "      <td>1</td>\n",
       "      <td>1017.1</td>\n",
       "      <td>Macro</td>\n",
       "    </tr>\n",
       "    <tr>\n",
       "      <th>4227</th>\n",
       "      <td>1</td>\n",
       "      <td>1994-03-02 12:00:00</td>\n",
       "      <td>2</td>\n",
       "      <td>1019.3</td>\n",
       "      <td>Macro</td>\n",
       "    </tr>\n",
       "    <tr>\n",
       "      <th>8454</th>\n",
       "      <td>1</td>\n",
       "      <td>1994-03-03 12:00:00</td>\n",
       "      <td>3</td>\n",
       "      <td>1017.0</td>\n",
       "      <td>Macro</td>\n",
       "    </tr>\n",
       "    <tr>\n",
       "      <th>12681</th>\n",
       "      <td>1</td>\n",
       "      <td>1994-03-04 12:00:00</td>\n",
       "      <td>4</td>\n",
       "      <td>1019.2</td>\n",
       "      <td>Macro</td>\n",
       "    </tr>\n",
       "    <tr>\n",
       "      <th>16908</th>\n",
       "      <td>1</td>\n",
       "      <td>1994-03-05 12:00:00</td>\n",
       "      <td>5</td>\n",
       "      <td>1018.7</td>\n",
       "      <td>Macro</td>\n",
       "    </tr>\n",
       "    <tr>\n",
       "      <th>...</th>\n",
       "      <td>...</td>\n",
       "      <td>...</td>\n",
       "      <td>...</td>\n",
       "      <td>...</td>\n",
       "      <td>...</td>\n",
       "    </tr>\n",
       "    <tr>\n",
       "      <th>18750971</th>\n",
       "      <td>4227</td>\n",
       "      <td>2012-04-22 12:00:00</td>\n",
       "      <td>4436</td>\n",
       "      <td>15111.5</td>\n",
       "      <td>Other</td>\n",
       "    </tr>\n",
       "    <tr>\n",
       "      <th>18755198</th>\n",
       "      <td>4227</td>\n",
       "      <td>2012-04-23 12:00:00</td>\n",
       "      <td>4437</td>\n",
       "      <td>15154.0</td>\n",
       "      <td>Other</td>\n",
       "    </tr>\n",
       "    <tr>\n",
       "      <th>18759425</th>\n",
       "      <td>4227</td>\n",
       "      <td>2012-04-24 12:00:00</td>\n",
       "      <td>4438</td>\n",
       "      <td>15208.6</td>\n",
       "      <td>Other</td>\n",
       "    </tr>\n",
       "    <tr>\n",
       "      <th>18763652</th>\n",
       "      <td>4227</td>\n",
       "      <td>2012-04-25 12:00:00</td>\n",
       "      <td>4439</td>\n",
       "      <td>15108.0</td>\n",
       "      <td>Other</td>\n",
       "    </tr>\n",
       "    <tr>\n",
       "      <th>18767879</th>\n",
       "      <td>4227</td>\n",
       "      <td>2012-04-26 12:00:00</td>\n",
       "      <td>4440</td>\n",
       "      <td>15169.9</td>\n",
       "      <td>Other</td>\n",
       "    </tr>\n",
       "  </tbody>\n",
       "</table>\n",
       "<p>9964658 rows × 5 columns</p>\n",
       "</div>"
      ],
      "text/plain": [
       "            id                  ds     t        y category\n",
       "0            1 1994-03-01 12:00:00     1   1017.1    Macro\n",
       "4227         1 1994-03-02 12:00:00     2   1019.3    Macro\n",
       "8454         1 1994-03-03 12:00:00     3   1017.0    Macro\n",
       "12681        1 1994-03-04 12:00:00     4   1019.2    Macro\n",
       "16908        1 1994-03-05 12:00:00     5   1018.7    Macro\n",
       "...        ...                 ...   ...      ...      ...\n",
       "18750971  4227 2012-04-22 12:00:00  4436  15111.5    Other\n",
       "18755198  4227 2012-04-23 12:00:00  4437  15154.0    Other\n",
       "18759425  4227 2012-04-24 12:00:00  4438  15208.6    Other\n",
       "18763652  4227 2012-04-25 12:00:00  4439  15108.0    Other\n",
       "18767879  4227 2012-04-26 12:00:00  4440  15169.9    Other\n",
       "\n",
       "[9964658 rows x 5 columns]"
      ]
     },
     "execution_count": 2,
     "metadata": {},
     "output_type": "execute_result"
    }
   ],
   "source": [
    "daily_train = pd.read_parquet(\"../data/processed/daily-train-base.parquet\")\n",
    "daily_train"
   ]
  },
  {
   "cell_type": "code",
   "execution_count": 3,
   "id": "cc780612-b159-4348-9006-853dd4db0c2b",
   "metadata": {},
   "outputs": [
    {
     "data": {
      "application/vnd.jupyter.widget-view+json": {
       "model_id": "6e6fc602a91e40e98c3b244e01fd6cd2",
       "version_major": 2,
       "version_minor": 0
      },
      "text/plain": [
       "interactive(children=(Dropdown(description='key', options=(1, 2, 3, 4, 5, 6, 7, 8, 9, 10, 11, 12, 13, 14, 15, …"
      ]
     },
     "metadata": {},
     "output_type": "display_data"
    }
   ],
   "source": [
    "@interact(df=fixed(daily_train), key=widgets.Dropdown(options=list(daily_train.id.unique())))\n",
    "def plot_ts(df, key):\n",
    "    fig = px.line(df.loc[df.id == key, [\"ds\", \"y\"]].set_index(\"ds\"))\n",
    "    return fig"
   ]
  },
  {
   "cell_type": "code",
   "execution_count": null,
   "id": "726298d0-52a4-4ebe-b9bc-a7b804a60864",
   "metadata": {},
   "outputs": [],
   "source": []
  }
 ],
 "metadata": {
  "kernelspec": {
   "display_name": "Python 3 (ipykernel)",
   "language": "python",
   "name": "python3"
  },
  "language_info": {
   "codemirror_mode": {
    "name": "ipython",
    "version": 3
   },
   "file_extension": ".py",
   "mimetype": "text/x-python",
   "name": "python",
   "nbconvert_exporter": "python",
   "pygments_lexer": "ipython3",
   "version": "3.7.12"
  }
 },
 "nbformat": 4,
 "nbformat_minor": 5
}
